{
  "nbformat": 4,
  "nbformat_minor": 0,
  "metadata": {
    "anaconda-cloud": {},
    "kernelspec": {
      "display_name": "Python 3",
      "language": "python",
      "name": "python3"
    },
    "language_info": {
      "codemirror_mode": {
        "name": "ipython",
        "version": 3
      },
      "file_extension": ".py",
      "mimetype": "text/x-python",
      "name": "python",
      "nbconvert_exporter": "python",
      "pygments_lexer": "ipython3",
      "version": "3.7.4"
    },
    "colab": {
      "name": "K-Means_Clustering1_[Prem Ananda].ipynb",
      "provenance": []
    }
  },
  "cells": [
    {
      "cell_type": "markdown",
      "metadata": {
        "id": "yQleGKfVG7R_",
        "colab_type": "text"
      },
      "source": [
        "# Clustering Case Study: Customer Segmentation with K-Means - Tier 1\n",
        "***\n",
        "This case study is based on [this blog post](http://blog.yhat.com/posts/customer-segmentation-using-python.html) by the `yhat` blog. Please feel free to refer to the post for additional information, and solutions.\n",
        "\n",
        "Structure of the mini-project:\n",
        "\n",
        "1. **Sourcing and loading**\n",
        "    * Load the data\n",
        "    * Explore the data\n",
        "\n",
        "\n",
        "2. **Cleaning, transforming and visualizing**\n",
        "    * Data Wrangling: Exercise Set 1\n",
        "        - Creating a matrix with a binary indicator for whether they responded to a given offer\n",
        "        - Ensure that in doing so, NAN values are dealt with appropriately\n",
        "    \n",
        "\n",
        "3. **Modelling** \n",
        "    * K-Means clustering: Exercise Sets 2 and 3\n",
        "        - Choosing K: The Elbow method\n",
        "        - Choosing K: The Silhouette method\n",
        "        - Choosing K: The Gap statistic method\n",
        "    \n",
        "    * Visualizing clusters with PCA: Exercise Sets 4 and 5\n",
        "\n",
        "\n",
        "4. **Conclusions and next steps**\n",
        "    * Conclusions\n",
        "    * Other clustering algorithms (Exercise Set 6)"
      ]
    },
    {
      "cell_type": "code",
      "metadata": {
        "id": "wuivwWNdG7SP",
        "colab_type": "code",
        "colab": {
          "base_uri": "https://localhost:8080/",
          "height": 70
        },
        "outputId": "fb8ada1b-a4fe-4b53-e070-b7b0fb2e1d75"
      },
      "source": [
        "%matplotlib inline\n",
        "import pandas as pd\n",
        "import sklearn\n",
        "import matplotlib.pyplot as plt\n",
        "import seaborn as sns\n",
        "\n",
        "# Setup Seaborn\n",
        "sns.set_style(\"whitegrid\")\n",
        "sns.set_context(\"poster\")"
      ],
      "execution_count": 1,
      "outputs": [
        {
          "output_type": "stream",
          "text": [
            "/usr/local/lib/python3.6/dist-packages/statsmodels/tools/_testing.py:19: FutureWarning: pandas.util.testing is deprecated. Use the functions in the public API at pandas.testing instead.\n",
            "  import pandas.util.testing as tm\n"
          ],
          "name": "stderr"
        }
      ]
    },
    {
      "cell_type": "markdown",
      "metadata": {
        "id": "GwIbB8SXG7Si",
        "colab_type": "text"
      },
      "source": [
        "## 1. Sourcing and loading\n",
        "### 1a. Load the data\n",
        "The dataset contains information on marketing newsletters/e-mail campaigns (e-mail offers sent to customers) and transaction level data from customers. The transactional data shows which offer customers responded to, and what the customer ended up buying. The data is presented as an Excel workbook containing two worksheets. Each worksheet contains a different dataset."
      ]
    },
    {
      "cell_type": "code",
      "metadata": {
        "id": "uJ_JgAw0HNDI",
        "colab_type": "code",
        "colab": {
          "base_uri": "https://localhost:8080/",
          "height": 34
        },
        "outputId": "e0857028-4a4e-4525-f240-775f3ed0b4fe"
      },
      "source": [
        "path = 'https://raw.githubusercontent.com/premonish/Springboard/master/Data/WineKMC.csv'\n",
        "df = pd.read_csv(path)\n",
        "df_offers = df[:32]\n",
        "df_transactions = df.iloc[33:,:2]\n",
        "df_transactions.shape"
      ],
      "execution_count": 2,
      "outputs": [
        {
          "output_type": "execute_result",
          "data": {
            "text/plain": [
              "(324, 2)"
            ]
          },
          "metadata": {
            "tags": []
          },
          "execution_count": 2
        }
      ]
    },
    {
      "cell_type": "code",
      "metadata": {
        "id": "4q7SFFqDG7Sk",
        "colab_type": "code",
        "colab": {}
      },
      "source": [
        "#df_offers = pd.read_excel(\"./WineKMC.xlsx\", sheet_name=0)"
      ],
      "execution_count": 3,
      "outputs": []
    },
    {
      "cell_type": "markdown",
      "metadata": {
        "id": "KYpWygniG7Sp",
        "colab_type": "text"
      },
      "source": [
        "### 1b. Explore the data"
      ]
    },
    {
      "cell_type": "code",
      "metadata": {
        "id": "He3zpLiZG7Sq",
        "colab_type": "code",
        "colab": {
          "base_uri": "https://localhost:8080/",
          "height": 195
        },
        "outputId": "ea1ab762-9dbf-438b-a0f6-5cf221af1a05"
      },
      "source": [
        "df_offers.columns = [\"offer_id\", \"campaign\", \"varietal\", \"min_qty\", \"discount\", \"origin\", \"past_peak\"]\n",
        "df_offers.head()"
      ],
      "execution_count": 4,
      "outputs": [
        {
          "output_type": "execute_result",
          "data": {
            "text/html": [
              "<div>\n",
              "<style scoped>\n",
              "    .dataframe tbody tr th:only-of-type {\n",
              "        vertical-align: middle;\n",
              "    }\n",
              "\n",
              "    .dataframe tbody tr th {\n",
              "        vertical-align: top;\n",
              "    }\n",
              "\n",
              "    .dataframe thead th {\n",
              "        text-align: right;\n",
              "    }\n",
              "</style>\n",
              "<table border=\"1\" class=\"dataframe\">\n",
              "  <thead>\n",
              "    <tr style=\"text-align: right;\">\n",
              "      <th></th>\n",
              "      <th>offer_id</th>\n",
              "      <th>campaign</th>\n",
              "      <th>varietal</th>\n",
              "      <th>min_qty</th>\n",
              "      <th>discount</th>\n",
              "      <th>origin</th>\n",
              "      <th>past_peak</th>\n",
              "    </tr>\n",
              "  </thead>\n",
              "  <tbody>\n",
              "    <tr>\n",
              "      <th>0</th>\n",
              "      <td>1</td>\n",
              "      <td>January</td>\n",
              "      <td>Malbec</td>\n",
              "      <td>72.0</td>\n",
              "      <td>56.0</td>\n",
              "      <td>France</td>\n",
              "      <td>False</td>\n",
              "    </tr>\n",
              "    <tr>\n",
              "      <th>1</th>\n",
              "      <td>2</td>\n",
              "      <td>January</td>\n",
              "      <td>Pinot Noir</td>\n",
              "      <td>72.0</td>\n",
              "      <td>17.0</td>\n",
              "      <td>France</td>\n",
              "      <td>False</td>\n",
              "    </tr>\n",
              "    <tr>\n",
              "      <th>2</th>\n",
              "      <td>3</td>\n",
              "      <td>February</td>\n",
              "      <td>Espumante</td>\n",
              "      <td>144.0</td>\n",
              "      <td>32.0</td>\n",
              "      <td>Oregon</td>\n",
              "      <td>True</td>\n",
              "    </tr>\n",
              "    <tr>\n",
              "      <th>3</th>\n",
              "      <td>4</td>\n",
              "      <td>February</td>\n",
              "      <td>Champagne</td>\n",
              "      <td>72.0</td>\n",
              "      <td>48.0</td>\n",
              "      <td>France</td>\n",
              "      <td>True</td>\n",
              "    </tr>\n",
              "    <tr>\n",
              "      <th>4</th>\n",
              "      <td>5</td>\n",
              "      <td>February</td>\n",
              "      <td>Cabernet Sauvignon</td>\n",
              "      <td>144.0</td>\n",
              "      <td>44.0</td>\n",
              "      <td>New Zealand</td>\n",
              "      <td>True</td>\n",
              "    </tr>\n",
              "  </tbody>\n",
              "</table>\n",
              "</div>"
            ],
            "text/plain": [
              "  offer_id  campaign            varietal  ...  discount       origin past_peak\n",
              "0        1   January              Malbec  ...      56.0       France     False\n",
              "1        2   January          Pinot Noir  ...      17.0       France     False\n",
              "2        3  February           Espumante  ...      32.0       Oregon      True\n",
              "3        4  February           Champagne  ...      48.0       France      True\n",
              "4        5  February  Cabernet Sauvignon  ...      44.0  New Zealand      True\n",
              "\n",
              "[5 rows x 7 columns]"
            ]
          },
          "metadata": {
            "tags": []
          },
          "execution_count": 4
        }
      ]
    },
    {
      "cell_type": "markdown",
      "metadata": {
        "id": "waNUSngHG7Sz",
        "colab_type": "text"
      },
      "source": [
        "We see that the first dataset contains information about each offer such as the month it is in effect and several attributes about the wine that the offer refers to: the variety, minimum quantity, discount, country of origin and whether or not it is past peak. The second dataset in the second worksheet contains transactional data -- which offer each customer responded to."
      ]
    },
    {
      "cell_type": "code",
      "metadata": {
        "id": "-Yw4CSbQG7S0",
        "colab_type": "code",
        "colab": {
          "base_uri": "https://localhost:8080/",
          "height": 195
        },
        "outputId": "7e1344dd-bca9-4f5e-b7d8-7ab7b6c5d6b0"
      },
      "source": [
        "#df_transactions = pd.read_excel(\"./WineKMC.xlsx\", sheet_name=1)\n",
        "df_transactions.columns = [\"customer_name\", \"offer_id\"]\n",
        "df_transactions['n'] = 1\n",
        "df_transactions.head()"
      ],
      "execution_count": 5,
      "outputs": [
        {
          "output_type": "execute_result",
          "data": {
            "text/html": [
              "<div>\n",
              "<style scoped>\n",
              "    .dataframe tbody tr th:only-of-type {\n",
              "        vertical-align: middle;\n",
              "    }\n",
              "\n",
              "    .dataframe tbody tr th {\n",
              "        vertical-align: top;\n",
              "    }\n",
              "\n",
              "    .dataframe thead th {\n",
              "        text-align: right;\n",
              "    }\n",
              "</style>\n",
              "<table border=\"1\" class=\"dataframe\">\n",
              "  <thead>\n",
              "    <tr style=\"text-align: right;\">\n",
              "      <th></th>\n",
              "      <th>customer_name</th>\n",
              "      <th>offer_id</th>\n",
              "      <th>n</th>\n",
              "    </tr>\n",
              "  </thead>\n",
              "  <tbody>\n",
              "    <tr>\n",
              "      <th>33</th>\n",
              "      <td>Smith</td>\n",
              "      <td>2</td>\n",
              "      <td>1</td>\n",
              "    </tr>\n",
              "    <tr>\n",
              "      <th>34</th>\n",
              "      <td>Smith</td>\n",
              "      <td>24</td>\n",
              "      <td>1</td>\n",
              "    </tr>\n",
              "    <tr>\n",
              "      <th>35</th>\n",
              "      <td>Johnson</td>\n",
              "      <td>17</td>\n",
              "      <td>1</td>\n",
              "    </tr>\n",
              "    <tr>\n",
              "      <th>36</th>\n",
              "      <td>Johnson</td>\n",
              "      <td>24</td>\n",
              "      <td>1</td>\n",
              "    </tr>\n",
              "    <tr>\n",
              "      <th>37</th>\n",
              "      <td>Johnson</td>\n",
              "      <td>26</td>\n",
              "      <td>1</td>\n",
              "    </tr>\n",
              "  </tbody>\n",
              "</table>\n",
              "</div>"
            ],
            "text/plain": [
              "   customer_name offer_id  n\n",
              "33         Smith        2  1\n",
              "34         Smith       24  1\n",
              "35       Johnson       17  1\n",
              "36       Johnson       24  1\n",
              "37       Johnson       26  1"
            ]
          },
          "metadata": {
            "tags": []
          },
          "execution_count": 5
        }
      ]
    },
    {
      "cell_type": "markdown",
      "metadata": {
        "id": "2N1Kn98LG7S8",
        "colab_type": "text"
      },
      "source": [
        "## 2. Cleaning, transforming and visualizing\n",
        "### 2a. Data Wrangling"
      ]
    },
    {
      "cell_type": "markdown",
      "metadata": {
        "id": "Q5WOpzoDG7S8",
        "colab_type": "text"
      },
      "source": [
        "We're trying to learn more about how our customers behave, so we can use their behavior (whether or not they purchased something based on an offer) as a way to group similar minded customers together. We can then study those groups to look for patterns and trends which can help us formulate future offers.\n",
        "\n",
        "The first thing we need is a way to compare customers. To do this, we're going to create a matrix that contains each customer and a 0/1 indicator for whether or not they responded to a given offer. "
      ]
    },
    {
      "cell_type": "markdown",
      "metadata": {
        "id": "nqrMNKhrG7S9",
        "colab_type": "text"
      },
      "source": [
        "<div class=\"span5 alert alert-info\">\n",
        "<h3>Checkup Exercise Set I</h3>\n",
        "\n",
        "<p><b>Exercise:</b> Create a data frame where each row has the following columns (Use the pandas [`merge`](http://pandas.pydata.org/pandas-docs/stable/generated/pandas.DataFrame.merge.html) and [`pivot_table`](http://pandas.pydata.org/pandas-docs/stable/generated/pandas.pivot_table.html) functions for this purpose):\n",
        "<ul>\n",
        "<li> customer_name\n",
        "<li> One column for each offer, with a 1 if the customer responded to the offer\n",
        "</ul>\n",
        "<p>Make sure you also deal with any weird values such as `NaN`. Read the documentation to develop your solution.</p>\n",
        "</div>"
      ]
    },
    {
      "cell_type": "code",
      "metadata": {
        "scrolled": true,
        "id": "d0l083KOG7TA",
        "colab_type": "code",
        "colab": {
          "base_uri": "https://localhost:8080/",
          "height": 451
        },
        "outputId": "99e31758-623c-430d-910c-9cae1dbddd58"
      },
      "source": [
        "#your turn\n",
        "# Think about calling merge() on df_transactions and df_offers\n",
        "merged = pd.merge(df_transactions, df_offers)\n",
        "\n",
        "# We now want to make a pivot table\n",
        "pivoted = merged.pivot_table(index='customer_name', columns='offer_id', values='n', fill_value=0)\n",
        "\n",
        "pivoted"
      ],
      "execution_count": 6,
      "outputs": [
        {
          "output_type": "execute_result",
          "data": {
            "text/html": [
              "<div>\n",
              "<style scoped>\n",
              "    .dataframe tbody tr th:only-of-type {\n",
              "        vertical-align: middle;\n",
              "    }\n",
              "\n",
              "    .dataframe tbody tr th {\n",
              "        vertical-align: top;\n",
              "    }\n",
              "\n",
              "    .dataframe thead th {\n",
              "        text-align: right;\n",
              "    }\n",
              "</style>\n",
              "<table border=\"1\" class=\"dataframe\">\n",
              "  <thead>\n",
              "    <tr style=\"text-align: right;\">\n",
              "      <th>offer_id</th>\n",
              "      <th>1</th>\n",
              "      <th>10</th>\n",
              "      <th>11</th>\n",
              "      <th>12</th>\n",
              "      <th>13</th>\n",
              "      <th>14</th>\n",
              "      <th>15</th>\n",
              "      <th>16</th>\n",
              "      <th>17</th>\n",
              "      <th>18</th>\n",
              "      <th>19</th>\n",
              "      <th>2</th>\n",
              "      <th>20</th>\n",
              "      <th>21</th>\n",
              "      <th>22</th>\n",
              "      <th>23</th>\n",
              "      <th>24</th>\n",
              "      <th>25</th>\n",
              "      <th>26</th>\n",
              "      <th>27</th>\n",
              "      <th>28</th>\n",
              "      <th>29</th>\n",
              "      <th>3</th>\n",
              "      <th>30</th>\n",
              "      <th>31</th>\n",
              "      <th>32</th>\n",
              "      <th>4</th>\n",
              "      <th>5</th>\n",
              "      <th>6</th>\n",
              "      <th>7</th>\n",
              "      <th>8</th>\n",
              "      <th>9</th>\n",
              "    </tr>\n",
              "    <tr>\n",
              "      <th>customer_name</th>\n",
              "      <th></th>\n",
              "      <th></th>\n",
              "      <th></th>\n",
              "      <th></th>\n",
              "      <th></th>\n",
              "      <th></th>\n",
              "      <th></th>\n",
              "      <th></th>\n",
              "      <th></th>\n",
              "      <th></th>\n",
              "      <th></th>\n",
              "      <th></th>\n",
              "      <th></th>\n",
              "      <th></th>\n",
              "      <th></th>\n",
              "      <th></th>\n",
              "      <th></th>\n",
              "      <th></th>\n",
              "      <th></th>\n",
              "      <th></th>\n",
              "      <th></th>\n",
              "      <th></th>\n",
              "      <th></th>\n",
              "      <th></th>\n",
              "      <th></th>\n",
              "      <th></th>\n",
              "      <th></th>\n",
              "      <th></th>\n",
              "      <th></th>\n",
              "      <th></th>\n",
              "      <th></th>\n",
              "      <th></th>\n",
              "    </tr>\n",
              "  </thead>\n",
              "  <tbody>\n",
              "    <tr>\n",
              "      <th>Adams</th>\n",
              "      <td>0</td>\n",
              "      <td>0</td>\n",
              "      <td>0</td>\n",
              "      <td>0</td>\n",
              "      <td>0</td>\n",
              "      <td>0</td>\n",
              "      <td>0</td>\n",
              "      <td>0</td>\n",
              "      <td>0</td>\n",
              "      <td>1</td>\n",
              "      <td>0</td>\n",
              "      <td>0</td>\n",
              "      <td>0</td>\n",
              "      <td>0</td>\n",
              "      <td>0</td>\n",
              "      <td>0</td>\n",
              "      <td>0</td>\n",
              "      <td>0</td>\n",
              "      <td>0</td>\n",
              "      <td>0</td>\n",
              "      <td>0</td>\n",
              "      <td>1</td>\n",
              "      <td>0</td>\n",
              "      <td>1</td>\n",
              "      <td>0</td>\n",
              "      <td>0</td>\n",
              "      <td>0</td>\n",
              "      <td>0</td>\n",
              "      <td>0</td>\n",
              "      <td>0</td>\n",
              "      <td>0</td>\n",
              "      <td>0</td>\n",
              "    </tr>\n",
              "    <tr>\n",
              "      <th>Allen</th>\n",
              "      <td>0</td>\n",
              "      <td>0</td>\n",
              "      <td>0</td>\n",
              "      <td>0</td>\n",
              "      <td>0</td>\n",
              "      <td>0</td>\n",
              "      <td>0</td>\n",
              "      <td>0</td>\n",
              "      <td>0</td>\n",
              "      <td>0</td>\n",
              "      <td>0</td>\n",
              "      <td>0</td>\n",
              "      <td>0</td>\n",
              "      <td>0</td>\n",
              "      <td>0</td>\n",
              "      <td>0</td>\n",
              "      <td>0</td>\n",
              "      <td>0</td>\n",
              "      <td>0</td>\n",
              "      <td>1</td>\n",
              "      <td>0</td>\n",
              "      <td>0</td>\n",
              "      <td>0</td>\n",
              "      <td>0</td>\n",
              "      <td>0</td>\n",
              "      <td>0</td>\n",
              "      <td>0</td>\n",
              "      <td>0</td>\n",
              "      <td>0</td>\n",
              "      <td>0</td>\n",
              "      <td>0</td>\n",
              "      <td>1</td>\n",
              "    </tr>\n",
              "    <tr>\n",
              "      <th>Anderson</th>\n",
              "      <td>0</td>\n",
              "      <td>0</td>\n",
              "      <td>0</td>\n",
              "      <td>0</td>\n",
              "      <td>0</td>\n",
              "      <td>0</td>\n",
              "      <td>0</td>\n",
              "      <td>0</td>\n",
              "      <td>0</td>\n",
              "      <td>0</td>\n",
              "      <td>0</td>\n",
              "      <td>0</td>\n",
              "      <td>0</td>\n",
              "      <td>0</td>\n",
              "      <td>0</td>\n",
              "      <td>0</td>\n",
              "      <td>1</td>\n",
              "      <td>0</td>\n",
              "      <td>1</td>\n",
              "      <td>0</td>\n",
              "      <td>0</td>\n",
              "      <td>0</td>\n",
              "      <td>0</td>\n",
              "      <td>0</td>\n",
              "      <td>0</td>\n",
              "      <td>0</td>\n",
              "      <td>0</td>\n",
              "      <td>0</td>\n",
              "      <td>0</td>\n",
              "      <td>0</td>\n",
              "      <td>0</td>\n",
              "      <td>0</td>\n",
              "    </tr>\n",
              "    <tr>\n",
              "      <th>Bailey</th>\n",
              "      <td>0</td>\n",
              "      <td>0</td>\n",
              "      <td>0</td>\n",
              "      <td>0</td>\n",
              "      <td>0</td>\n",
              "      <td>0</td>\n",
              "      <td>0</td>\n",
              "      <td>0</td>\n",
              "      <td>0</td>\n",
              "      <td>0</td>\n",
              "      <td>0</td>\n",
              "      <td>0</td>\n",
              "      <td>0</td>\n",
              "      <td>0</td>\n",
              "      <td>0</td>\n",
              "      <td>0</td>\n",
              "      <td>0</td>\n",
              "      <td>0</td>\n",
              "      <td>0</td>\n",
              "      <td>0</td>\n",
              "      <td>0</td>\n",
              "      <td>0</td>\n",
              "      <td>0</td>\n",
              "      <td>1</td>\n",
              "      <td>0</td>\n",
              "      <td>0</td>\n",
              "      <td>0</td>\n",
              "      <td>0</td>\n",
              "      <td>0</td>\n",
              "      <td>1</td>\n",
              "      <td>0</td>\n",
              "      <td>0</td>\n",
              "    </tr>\n",
              "    <tr>\n",
              "      <th>Baker</th>\n",
              "      <td>0</td>\n",
              "      <td>1</td>\n",
              "      <td>0</td>\n",
              "      <td>0</td>\n",
              "      <td>0</td>\n",
              "      <td>0</td>\n",
              "      <td>0</td>\n",
              "      <td>0</td>\n",
              "      <td>0</td>\n",
              "      <td>0</td>\n",
              "      <td>1</td>\n",
              "      <td>0</td>\n",
              "      <td>0</td>\n",
              "      <td>0</td>\n",
              "      <td>0</td>\n",
              "      <td>0</td>\n",
              "      <td>0</td>\n",
              "      <td>0</td>\n",
              "      <td>0</td>\n",
              "      <td>0</td>\n",
              "      <td>0</td>\n",
              "      <td>0</td>\n",
              "      <td>0</td>\n",
              "      <td>0</td>\n",
              "      <td>1</td>\n",
              "      <td>0</td>\n",
              "      <td>0</td>\n",
              "      <td>0</td>\n",
              "      <td>0</td>\n",
              "      <td>1</td>\n",
              "      <td>0</td>\n",
              "      <td>0</td>\n",
              "    </tr>\n",
              "    <tr>\n",
              "      <th>...</th>\n",
              "      <td>...</td>\n",
              "      <td>...</td>\n",
              "      <td>...</td>\n",
              "      <td>...</td>\n",
              "      <td>...</td>\n",
              "      <td>...</td>\n",
              "      <td>...</td>\n",
              "      <td>...</td>\n",
              "      <td>...</td>\n",
              "      <td>...</td>\n",
              "      <td>...</td>\n",
              "      <td>...</td>\n",
              "      <td>...</td>\n",
              "      <td>...</td>\n",
              "      <td>...</td>\n",
              "      <td>...</td>\n",
              "      <td>...</td>\n",
              "      <td>...</td>\n",
              "      <td>...</td>\n",
              "      <td>...</td>\n",
              "      <td>...</td>\n",
              "      <td>...</td>\n",
              "      <td>...</td>\n",
              "      <td>...</td>\n",
              "      <td>...</td>\n",
              "      <td>...</td>\n",
              "      <td>...</td>\n",
              "      <td>...</td>\n",
              "      <td>...</td>\n",
              "      <td>...</td>\n",
              "      <td>...</td>\n",
              "      <td>...</td>\n",
              "    </tr>\n",
              "    <tr>\n",
              "      <th>Williams</th>\n",
              "      <td>0</td>\n",
              "      <td>0</td>\n",
              "      <td>0</td>\n",
              "      <td>0</td>\n",
              "      <td>0</td>\n",
              "      <td>0</td>\n",
              "      <td>0</td>\n",
              "      <td>0</td>\n",
              "      <td>0</td>\n",
              "      <td>1</td>\n",
              "      <td>0</td>\n",
              "      <td>0</td>\n",
              "      <td>0</td>\n",
              "      <td>0</td>\n",
              "      <td>1</td>\n",
              "      <td>0</td>\n",
              "      <td>0</td>\n",
              "      <td>0</td>\n",
              "      <td>0</td>\n",
              "      <td>0</td>\n",
              "      <td>0</td>\n",
              "      <td>0</td>\n",
              "      <td>0</td>\n",
              "      <td>0</td>\n",
              "      <td>1</td>\n",
              "      <td>0</td>\n",
              "      <td>0</td>\n",
              "      <td>0</td>\n",
              "      <td>0</td>\n",
              "      <td>0</td>\n",
              "      <td>0</td>\n",
              "      <td>0</td>\n",
              "    </tr>\n",
              "    <tr>\n",
              "      <th>Wilson</th>\n",
              "      <td>0</td>\n",
              "      <td>0</td>\n",
              "      <td>0</td>\n",
              "      <td>0</td>\n",
              "      <td>0</td>\n",
              "      <td>0</td>\n",
              "      <td>0</td>\n",
              "      <td>0</td>\n",
              "      <td>0</td>\n",
              "      <td>0</td>\n",
              "      <td>0</td>\n",
              "      <td>0</td>\n",
              "      <td>0</td>\n",
              "      <td>0</td>\n",
              "      <td>0</td>\n",
              "      <td>0</td>\n",
              "      <td>0</td>\n",
              "      <td>0</td>\n",
              "      <td>0</td>\n",
              "      <td>0</td>\n",
              "      <td>0</td>\n",
              "      <td>0</td>\n",
              "      <td>0</td>\n",
              "      <td>1</td>\n",
              "      <td>0</td>\n",
              "      <td>0</td>\n",
              "      <td>0</td>\n",
              "      <td>0</td>\n",
              "      <td>0</td>\n",
              "      <td>0</td>\n",
              "      <td>1</td>\n",
              "      <td>0</td>\n",
              "    </tr>\n",
              "    <tr>\n",
              "      <th>Wood</th>\n",
              "      <td>1</td>\n",
              "      <td>1</td>\n",
              "      <td>0</td>\n",
              "      <td>0</td>\n",
              "      <td>0</td>\n",
              "      <td>1</td>\n",
              "      <td>0</td>\n",
              "      <td>0</td>\n",
              "      <td>0</td>\n",
              "      <td>0</td>\n",
              "      <td>0</td>\n",
              "      <td>0</td>\n",
              "      <td>0</td>\n",
              "      <td>0</td>\n",
              "      <td>0</td>\n",
              "      <td>0</td>\n",
              "      <td>0</td>\n",
              "      <td>0</td>\n",
              "      <td>0</td>\n",
              "      <td>0</td>\n",
              "      <td>0</td>\n",
              "      <td>0</td>\n",
              "      <td>0</td>\n",
              "      <td>0</td>\n",
              "      <td>1</td>\n",
              "      <td>0</td>\n",
              "      <td>0</td>\n",
              "      <td>0</td>\n",
              "      <td>0</td>\n",
              "      <td>0</td>\n",
              "      <td>0</td>\n",
              "      <td>0</td>\n",
              "    </tr>\n",
              "    <tr>\n",
              "      <th>Wright</th>\n",
              "      <td>0</td>\n",
              "      <td>0</td>\n",
              "      <td>0</td>\n",
              "      <td>0</td>\n",
              "      <td>0</td>\n",
              "      <td>0</td>\n",
              "      <td>0</td>\n",
              "      <td>0</td>\n",
              "      <td>0</td>\n",
              "      <td>0</td>\n",
              "      <td>0</td>\n",
              "      <td>0</td>\n",
              "      <td>0</td>\n",
              "      <td>1</td>\n",
              "      <td>0</td>\n",
              "      <td>0</td>\n",
              "      <td>0</td>\n",
              "      <td>0</td>\n",
              "      <td>0</td>\n",
              "      <td>1</td>\n",
              "      <td>0</td>\n",
              "      <td>0</td>\n",
              "      <td>0</td>\n",
              "      <td>0</td>\n",
              "      <td>0</td>\n",
              "      <td>0</td>\n",
              "      <td>1</td>\n",
              "      <td>0</td>\n",
              "      <td>1</td>\n",
              "      <td>0</td>\n",
              "      <td>0</td>\n",
              "      <td>0</td>\n",
              "    </tr>\n",
              "    <tr>\n",
              "      <th>Young</th>\n",
              "      <td>0</td>\n",
              "      <td>0</td>\n",
              "      <td>0</td>\n",
              "      <td>0</td>\n",
              "      <td>0</td>\n",
              "      <td>0</td>\n",
              "      <td>1</td>\n",
              "      <td>0</td>\n",
              "      <td>0</td>\n",
              "      <td>0</td>\n",
              "      <td>0</td>\n",
              "      <td>0</td>\n",
              "      <td>0</td>\n",
              "      <td>0</td>\n",
              "      <td>1</td>\n",
              "      <td>0</td>\n",
              "      <td>0</td>\n",
              "      <td>0</td>\n",
              "      <td>0</td>\n",
              "      <td>0</td>\n",
              "      <td>0</td>\n",
              "      <td>0</td>\n",
              "      <td>0</td>\n",
              "      <td>0</td>\n",
              "      <td>1</td>\n",
              "      <td>1</td>\n",
              "      <td>0</td>\n",
              "      <td>0</td>\n",
              "      <td>1</td>\n",
              "      <td>0</td>\n",
              "      <td>0</td>\n",
              "      <td>1</td>\n",
              "    </tr>\n",
              "  </tbody>\n",
              "</table>\n",
              "<p>100 rows × 32 columns</p>\n",
              "</div>"
            ],
            "text/plain": [
              "offer_id       1  10  11  12  13  14  15  16  17  ...  30  31  32  4  5  6  7  8  9\n",
              "customer_name                                     ...                              \n",
              "Adams          0   0   0   0   0   0   0   0   0  ...   1   0   0  0  0  0  0  0  0\n",
              "Allen          0   0   0   0   0   0   0   0   0  ...   0   0   0  0  0  0  0  0  1\n",
              "Anderson       0   0   0   0   0   0   0   0   0  ...   0   0   0  0  0  0  0  0  0\n",
              "Bailey         0   0   0   0   0   0   0   0   0  ...   1   0   0  0  0  0  1  0  0\n",
              "Baker          0   1   0   0   0   0   0   0   0  ...   0   1   0  0  0  0  1  0  0\n",
              "...           ..  ..  ..  ..  ..  ..  ..  ..  ..  ...  ..  ..  .. .. .. .. .. .. ..\n",
              "Williams       0   0   0   0   0   0   0   0   0  ...   0   1   0  0  0  0  0  0  0\n",
              "Wilson         0   0   0   0   0   0   0   0   0  ...   1   0   0  0  0  0  0  1  0\n",
              "Wood           1   1   0   0   0   1   0   0   0  ...   0   1   0  0  0  0  0  0  0\n",
              "Wright         0   0   0   0   0   0   0   0   0  ...   0   0   0  1  0  1  0  0  0\n",
              "Young          0   0   0   0   0   0   1   0   0  ...   0   1   1  0  0  1  0  0  1\n",
              "\n",
              "[100 rows x 32 columns]"
            ]
          },
          "metadata": {
            "tags": []
          },
          "execution_count": 6
        }
      ]
    },
    {
      "cell_type": "markdown",
      "metadata": {
        "id": "qtK047X8G7TJ",
        "colab_type": "text"
      },
      "source": [
        "## 3. Modelling \n",
        "### 3a. K-Means Clustering\n",
        "\n",
        "Recall that in K-Means Clustering we want to *maximize* the distance between centroids and *minimize* the distance between data points and the respective centroid for the cluster they are in. True evaluation for unsupervised learning would require labeled data; however, we can use a variety of intuitive metrics to try to pick the number of clusters K. We will introduce two methods: the Elbow method, the Silhouette method and the gap statistic."
      ]
    },
    {
      "cell_type": "markdown",
      "metadata": {
        "id": "5-9xqSplG7TK",
        "colab_type": "text"
      },
      "source": [
        "#### 3ai. Choosing K: The Elbow Sum-of-Squares Method\n",
        "\n",
        "The first method looks at the sum-of-squares error in each cluster against $K$. We compute the distance from each data point to the center of the cluster (centroid) to which the data point was assigned. \n",
        "\n",
        "$$SS = \\sum_k \\sum_{x_i \\in C_k} \\sum_{x_j \\in C_k} \\left( x_i - x_j \\right)^2 = \\sum_k \\sum_{x_i \\in C_k} \\left( x_i - \\mu_k \\right)^2$$\n",
        "\n",
        "where $x_i$ is a point, $C_k$ represents cluster $k$ and $\\mu_k$ is the centroid for cluster $k$. We can plot SS vs. $K$ and choose the *elbow point* in the plot as the best value for $K$. The elbow point is the point at which the plot starts descending much more slowly. \n",
        "\n",
        "**Hint:** the Elbow Method is discussed in part 2 of the Harvard Clustering lecture. "
      ]
    },
    {
      "cell_type": "markdown",
      "metadata": {
        "id": "rT7NhSCiG7TP",
        "colab_type": "text"
      },
      "source": [
        "<div class=\"span5 alert alert-info\">\n",
        "<h3>Checkup Exercise Set II</h3>\n",
        "\n",
        "<p><b>Exercise:</b></p> \n",
        "<ul>\n",
        "<li> What values of $SS$ do you believe represent better clusterings? Why?\n",
        "<li> Create a numpy matrix `x_cols` with only the columns representing the offers (i.e. the 0/1 colums) \n",
        "<li> Write code that applies the [`KMeans`](http://scikit-learn.org/stable/modules/generated/sklearn.cluster.KMeans.html) clustering method from scikit-learn to this matrix. \n",
        "<li> Construct a plot showing $SS$ for each $K$ and pick $K$ using this plot. For simplicity, test $2 \\le K \\le 10$.\n",
        "<li> Make a bar chart showing the number of points in each cluster for k-means under the best $K$.\n",
        "<li> What challenges did you experience using the Elbow method to pick $K$?\n",
        "</ul>\n",
        "</div>"
      ]
    },
    {
      "cell_type": "code",
      "metadata": {
        "id": "ZDaKk-DBG7TR",
        "colab_type": "code",
        "colab": {
          "base_uri": "https://localhost:8080/",
          "height": 329
        },
        "outputId": "1dac4a2e-d2b3-4fae-dced-e6d9b7338d6c"
      },
      "source": [
        "# your turn\n",
        "import sklearn.cluster\n",
        "import numpy as np\n",
        "\n",
        "# Make an empty list\n",
        "ss = []\n",
        "\n",
        "# Make an empty dictionary called assignments \n",
        "assignments = {}\n",
        "\n",
        "# Cast your table 'pivoted' as a matrix with as_matrix(), and store it in a variable X \n",
        "X = pivoted.values\n",
        "\n",
        "# Make a variable called Krange, and assign it a list of range(2, 11)\n",
        "Krange  = list(range(2, 11))\n",
        "\n",
        "# We now want to iterate through this list to construct a plot showing SS for each K. Name the iterator variable K \n",
        "for k in Krange:\n",
        "    # Make a variable called model, and assign it the result of calling sklearn.cluster.KMeans, with n_clusters = K \n",
        "    model = sklearn.cluster.KMeans(n_clusters=k)\n",
        "    assigned_cluster = model.fit_predict(X)\n",
        "    centers = model.cluster_centers_\n",
        "    ss.append(np.sum((X - centers[assigned_cluster]) ** 2))\n",
        "    assignments[str(k)] = assigned_cluster\n",
        "    \n",
        "# Call plot() on plt with parameters Krange and ss\n",
        "plt.plot(Krange, ss)\n",
        "\n",
        "# Let's label the plot \n",
        "plt.xlabel(\"$K$\")\n",
        "plt.ylabel(\"Sum of Squares\")\n",
        "\n",
        "# Can you see what we're doing here? "
      ],
      "execution_count": 7,
      "outputs": [
        {
          "output_type": "execute_result",
          "data": {
            "text/plain": [
              "Text(0, 0.5, 'Sum of Squares')"
            ]
          },
          "metadata": {
            "tags": []
          },
          "execution_count": 7
        },
        {
          "output_type": "display_data",
          "data": {
            "image/png": "[encoded data removed]",
            "text/plain": [
              "<Figure size 432x288 with 1 Axes>"
            ]
          },
          "metadata": {
            "tags": [],
            "needs_background": "light"
          }
        }
      ]
    },
    {
      "cell_type": "code",
      "metadata": {
        "id": "3ImHaMtjG7TW",
        "colab_type": "code",
        "colab": {
          "base_uri": "https://localhost:8080/",
          "height": 514
        },
        "outputId": "9b8a993e-6b63-492b-a9b9-36d99a9bce24"
      },
      "source": [
        "# What is the best K? Fill in the assignment below appropriately\n",
        "best_K = 10\n",
        "assignments_best_K = assignments[str(best_K)]\n",
        "counts = np.bincount(assignments_best_K)\n",
        "print(len(counts))\n",
        "\n",
        "# Call bar() on plt, with parameters range(best_K), counts, and align = 'center'\n",
        "plt.bar(range(best_K), counts,  align = 'center')\n",
        "\n",
        "# Label the axes \n",
        "plt.xlabel(\"Cluster ID\")\n",
        "plt.ylabel(\"Count\")\n",
        "plt.xticks(range(best_K))"
      ],
      "execution_count": 8,
      "outputs": [
        {
          "output_type": "stream",
          "text": [
            "10\n"
          ],
          "name": "stdout"
        },
        {
          "output_type": "execute_result",
          "data": {
            "text/plain": [
              "([<matplotlib.axis.XTick at 0x7ffaf5bf6f98>,\n",
              "  <matplotlib.axis.XTick at 0x7ffaf5bf62e8>,\n",
              "  <matplotlib.axis.XTick at 0x7ffaf5c5e390>,\n",
              "  <matplotlib.axis.XTick at 0x7ffaf5bec400>,\n",
              "  <matplotlib.axis.XTick at 0x7ffaf5bec860>,\n",
              "  <matplotlib.axis.XTick at 0x7ffaf5bec940>,\n",
              "  <matplotlib.axis.XTick at 0x7ffaf5becef0>,\n",
              "  <matplotlib.axis.XTick at 0x7ffaf5bf33c8>,\n",
              "  <matplotlib.axis.XTick at 0x7ffaf5bf3860>,\n",
              "  <matplotlib.axis.XTick at 0x7ffaf5bf3cf8>],\n",
              " <a list of 10 Text major ticklabel objects>)"
            ]
          },
          "metadata": {
            "tags": []
          },
          "execution_count": 8
        },
        {
          "output_type": "display_data",
          "data": {
            "image/png": "[encoded data removed]",
            "text/plain": [
              "<Figure size 432x288 with 1 Axes>"
            ]
          },
          "metadata": {
            "tags": [],
            "needs_background": "light"
          }
        }
      ]
    },
    {
      "cell_type": "markdown",
      "metadata": {
        "id": "F0CM3dFNG7TY",
        "colab_type": "text"
      },
      "source": [
        "#### 3aii. Choosing K: The Silhouette Method\n",
        "\n",
        "There exists another method that measures how well each datapoint $x_i$ \"fits\" its assigned cluster *and also* how poorly it fits into other clusters. This is a different way of looking at the same objective. Denote $a_{x_i}$ as the *average* distance from $x_i$ to all other points within its own cluster $k$. The lower the value, the better. On the other hand $b_{x_i}$ is the minimum average distance from $x_i$ to points in a different cluster, minimized over clusters. That is, compute separately for each cluster the average distance from $x_i$ to the points within that cluster, and then take the minimum. The silhouette $s(x_i)$ is defined as\n",
        "\n",
        "$$s(x_i) = \\frac{b_{x_i} - a_{x_i}}{\\max{\\left( a_{x_i}, b_{x_i}\\right)}}$$\n",
        "\n",
        "The silhouette score is computed on *every datapoint in every cluster*. The silhouette score ranges from -1 (a poor clustering) to +1 (a very dense clustering) with 0 denoting the situation where clusters overlap. Some criteria for the silhouette coefficient is provided in the table below."
      ]
    },
    {
      "cell_type": "markdown",
      "metadata": {
        "id": "1acEai7NG7TZ",
        "colab_type": "text"
      },
      "source": [
        "<pre>\n",
        "\n",
        "| Range       | Interpretation                                |\n",
        "|-------------|-----------------------------------------------|\n",
        "| 0.71 - 1.0  | A strong structure has been found.            |\n",
        "| 0.51 - 0.7  | A reasonable structure has been found.        |\n",
        "| 0.26 - 0.5  | The structure is weak and could be artificial.|\n",
        "| < 0.25      | No substantial structure has been found.      |\n",
        "\n",
        "</pre>\n",
        "Source: http://www.stat.berkeley.edu/~spector/s133/Clus.html"
      ]
    },
    {
      "cell_type": "markdown",
      "metadata": {
        "id": "5pDqD5Q_G7Ta",
        "colab_type": "text"
      },
      "source": [
        "**Hint**: Scikit-learn provides a function to compute this for us (phew!) called [`sklearn.metrics.silhouette_score`](http://scikit-learn.org/stable/modules/generated/sklearn.metrics.silhouette_score.html). Take a look at [this article](http://scikit-learn.org/stable/auto_examples/cluster/plot_kmeans_silhouette_analysis.html) on picking $K$ in scikit-learn, as it will help you in the next exercise set."
      ]
    },
    {
      "cell_type": "markdown",
      "metadata": {
        "id": "JFi7gWnfG7Ta",
        "colab_type": "text"
      },
      "source": [
        "<div class=\"span5 alert alert-info\">\n",
        "<h3>Checkup Exercise Set III</h3>\n",
        "\n",
        "<p><b>Exercise:</b> Using the documentation for the `silhouette_score` function above, construct a series of silhouette plots like the ones in the article linked above.</p>\n",
        "\n",
        "<p><b>Exercise:</b> Compute the average silhouette score for each $K$ and plot it. What $K$ does the plot suggest we should choose? Does it differ from what we found using the Elbow method?</p>\n",
        "</div>"
      ]
    },
    {
      "cell_type": "code",
      "metadata": {
        "id": "PlHdjGTNG7Tb",
        "colab_type": "code",
        "colab": {
          "base_uri": "https://localhost:8080/",
          "height": 550
        },
        "outputId": "9205d09a-74ca-415a-f268-3914a33aede2"
      },
      "source": [
        "# This is an exercise in adapting someone else's code for our own use; a very common practice for data scientists and programmers alike\n",
        "# OUR SOURCE: http://scikit-learn.org/stable/auto_examples/cluster/plot_kmeans_silhouette_analysis.html\n",
        "\n",
        "import sklearn.metrics\n",
        "import matplotlib.cm as cm\n",
        "\n",
        "# Make an empty list called avg_silhouette_scores\n",
        "avg_silhouette_scores= []\n",
        "\n",
        "# Iterate through Krange with variable K as before\n",
        "for K in Krange:\n",
        "    fig, ax1 = plt.subplots(1, 1)\n",
        "    fig.set_size_inches(9, 5)\n",
        "\n",
        "    # The 1st subplot is the silhouette plot\n",
        "    # The silhouette coefficient can range from -1, 1 but in this example all\n",
        "    # lie within [-0.1, 1]\n",
        "    # Call set_xlim on ax1 \n",
        "    ax1.set_xlim([-0.25, 1])\n",
        "    # The (n_clusters+1)*10 is for inserting blank space between silhouette\n",
        "    # plots of individual clusters, to demarcate them clearly.\n",
        "    ax1.set_ylim([0, len(X) + (K + 1) * 10])\n",
        "\n",
        "    # Initialize the clusterer with n_clusters value and a random generator\n",
        "    # seed of 10 for reproducibility.\n",
        "    clusterer = sklearn.cluster.KMeans(n_clusters=K, random_state=10)\n",
        "    cluster_labels = clusterer.fit_predict(X)\n",
        "\n",
        "    # The silhouette_score gives the average value for all the samples.\n",
        "    # This gives a perspective into the density and separation of the formed\n",
        "    # clusters\n",
        "    # Make a variable called silhouette_avg. Set the parameters to silhouette_score to X, and cluster_labels\n",
        "    silhouette_avg  = sklearn.metrics.silhouette_score(X, cluster_labels)\n",
        "    avg_silhouette_scores.append(silhouette_avg)\n",
        "\n",
        "    # Compute the silhouette scores for each sample\n",
        "    # Call sklearn.metrics.silhouette_samples with the below parameters\n",
        "    sample_silhouette_values = sklearn.metrics.silhouette_samples(X, cluster_labels)\n",
        "\n",
        "    y_lower = 10\n",
        "    for i in range(K):\n",
        "        # Aggregate the silhouette scores for samples belonging to\n",
        "        # cluster i, and sort them\n",
        "        # Make a variable called ith_cluster_silhouette_values\n",
        "        ith_cluster_silhouette_values = \\\n",
        "            sample_silhouette_values[cluster_labels == i]\n",
        "\n",
        "        # Call sort() on this variable \n",
        "        ith_cluster_silhouette_values.sort()\n",
        "    \n",
        "        # Call shape[0] on ith_cluster_silhouette_values \n",
        "        size_cluster_i = ith_cluster_silhouette_values.shape[0] \n",
        "        y_upper = y_lower + size_cluster_i\n",
        "\n",
        "        cmap = cm.get_cmap(\"Spectral\")\n",
        "        color = cmap(float(i) / K)\n",
        "        ax1.fill_betweenx(np.arange(y_lower, y_upper),\n",
        "                          0, ith_cluster_silhouette_values,\n",
        "                          facecolor=color, edgecolor=color, alpha=0.7)\n",
        "\n",
        "        # Label the silhouette plots with their cluster numbers at the middle\n",
        "        # This requires calling text() on ax1 \n",
        "        ax1.text(-0.05, y_lower + 0.5 * size_cluster_i, str(i))\n",
        "\n",
        "        # Compute the new y_lower for next plot\n",
        "        y_lower = y_upper + 10  # 10 for the 0 samples\n",
        "\n",
        "    # Setting title, xlabel and ylabel \n",
        "    ax1.title(\"The silhouette plot for the various clusters.\")\n",
        "    ax1.xlabel(\"The silhouette coefficient values\")\n",
        "    ax1.ylabel(\"Cluster label\")\n",
        "\n",
        "    # The vertical line for average silhouette score of all the values\n",
        "    # This requires axvline() \n",
        "    ax1.axvline(x=silhouette_avg, color=\"red\", linestyle=\"--\")\n",
        "\n",
        "    ax1.set_yticks([])  # Clear the yaxis labels / ticks\n",
        "    ax1.set_xticks([-0.1, 0, 0.2, 0.4, 0.6, 0.8, 1])\n",
        "\n",
        "    plt.suptitle((\"Silhouette analysis for KMeans clustering on sample data \"\n",
        "                  \"with n_clusters = %d\" % K),\n",
        "                 fontsize=14, fontweight='bold')"
      ],
      "execution_count": 10,
      "outputs": [
        {
          "output_type": "error",
          "ename": "TypeError",
          "evalue": "ignored",
          "traceback": [
            "\u001b[0;31m---------------------------------------------------------------------------\u001b[0m",
            "\u001b[0;31mTypeError\u001b[0m                                 Traceback (most recent call last)",
            "\u001b[0;32m<ipython-input-10-045bae6b742f>\u001b[0m in \u001b[0;36m<module>\u001b[0;34m()\u001b[0m\n\u001b[1;32m     66\u001b[0m \u001b[0;34m\u001b[0m\u001b[0m\n\u001b[1;32m     67\u001b[0m     \u001b[0;31m# Setting title, xlabel and ylabel\u001b[0m\u001b[0;34m\u001b[0m\u001b[0;34m\u001b[0m\u001b[0;34m\u001b[0m\u001b[0m\n\u001b[0;32m---> 68\u001b[0;31m     \u001b[0max1\u001b[0m\u001b[0;34m.\u001b[0m\u001b[0mtitle\u001b[0m\u001b[0;34m(\u001b[0m\u001b[0;34m\"The silhouette plot for the various clusters.\"\u001b[0m\u001b[0;34m)\u001b[0m\u001b[0;34m\u001b[0m\u001b[0;34m\u001b[0m\u001b[0m\n\u001b[0m\u001b[1;32m     69\u001b[0m     \u001b[0max1\u001b[0m\u001b[0;34m.\u001b[0m\u001b[0mxlabel\u001b[0m\u001b[0;34m(\u001b[0m\u001b[0;34m\"The silhouette coefficient values\"\u001b[0m\u001b[0;34m)\u001b[0m\u001b[0;34m\u001b[0m\u001b[0;34m\u001b[0m\u001b[0m\n\u001b[1;32m     70\u001b[0m     \u001b[0max1\u001b[0m\u001b[0;34m.\u001b[0m\u001b[0mylabel\u001b[0m\u001b[0;34m(\u001b[0m\u001b[0;34m\"Cluster label\"\u001b[0m\u001b[0;34m)\u001b[0m\u001b[0;34m\u001b[0m\u001b[0;34m\u001b[0m\u001b[0m\n",
            "\u001b[0;31mTypeError\u001b[0m: 'Text' object is not callable"
          ]
        },
        {
          "output_type": "display_data",
          "data": {
            "image/png": "[encoded data removed]",
            "text/plain": [
              "<Figure size 648x360 with 1 Axes>"
            ]
          },
          "metadata": {
            "tags": [],
            "needs_background": "light"
          }
        }
      ]
    },
    {
      "cell_type": "markdown",
      "metadata": {
        "id": "moBX1kC5G7Td",
        "colab_type": "text"
      },
      "source": [
        "<div class=\"span5 alert alert-success\">\n",
        "<h4>SOLUTIONS: Compute the average silhouette score for each $K$ and plot it. What $K$ does the plot suggest we should choose? Does it differ from what we found using the Elbow method?</p></h4>\n",
        "</div>"
      ]
    },
    {
      "cell_type": "code",
      "metadata": {
        "id": "06OYxfchG7Te",
        "colab_type": "code",
        "colab": {
          "base_uri": "https://localhost:8080/",
          "height": 646
        },
        "outputId": "5a2a0297-05e2-4f23-b6f6-e803e8f80146"
      },
      "source": [
        "# Computing the average silhouette score for each K and plotting it \n",
        "# Call plot() with parameters Krange, avg_silhouette_scores\n",
        "plt.plot(Krange, avg_silhouette_scores)\n",
        "plt.xlabel(\"$K$\")\n",
        "plt.ylabel(\"Average Silhouette Score\")"
      ],
      "execution_count": 12,
      "outputs": [
        {
          "output_type": "error",
          "ename": "ValueError",
          "evalue": "ignored",
          "traceback": [
            "\u001b[0;31m---------------------------------------------------------------------------\u001b[0m",
            "\u001b[0;31mValueError\u001b[0m                                Traceback (most recent call last)",
            "\u001b[0;32m<ipython-input-12-e8d444807fb0>\u001b[0m in \u001b[0;36m<module>\u001b[0;34m()\u001b[0m\n\u001b[1;32m      1\u001b[0m \u001b[0;31m# Computing the average silhouette score for each K and plotting it\u001b[0m\u001b[0;34m\u001b[0m\u001b[0;34m\u001b[0m\u001b[0;34m\u001b[0m\u001b[0m\n\u001b[1;32m      2\u001b[0m \u001b[0;31m# Call plot() with parameters Krange, avg_silhouette_scores\u001b[0m\u001b[0;34m\u001b[0m\u001b[0;34m\u001b[0m\u001b[0;34m\u001b[0m\u001b[0m\n\u001b[0;32m----> 3\u001b[0;31m \u001b[0mplt\u001b[0m\u001b[0;34m.\u001b[0m\u001b[0mplot\u001b[0m\u001b[0;34m(\u001b[0m\u001b[0mKrange\u001b[0m\u001b[0;34m,\u001b[0m \u001b[0mavg_silhouette_scores\u001b[0m\u001b[0;34m)\u001b[0m\u001b[0;34m\u001b[0m\u001b[0;34m\u001b[0m\u001b[0m\n\u001b[0m\u001b[1;32m      4\u001b[0m \u001b[0mplt\u001b[0m\u001b[0;34m.\u001b[0m\u001b[0mxlabel\u001b[0m\u001b[0;34m(\u001b[0m\u001b[0;34m\"$K$\"\u001b[0m\u001b[0;34m)\u001b[0m\u001b[0;34m\u001b[0m\u001b[0;34m\u001b[0m\u001b[0m\n\u001b[1;32m      5\u001b[0m \u001b[0mplt\u001b[0m\u001b[0;34m.\u001b[0m\u001b[0mylabel\u001b[0m\u001b[0;34m(\u001b[0m\u001b[0;34m\"Average Silhouette Score\"\u001b[0m\u001b[0;34m)\u001b[0m\u001b[0;34m\u001b[0m\u001b[0;34m\u001b[0m\u001b[0m\n",
            "\u001b[0;32m/usr/local/lib/python3.6/dist-packages/matplotlib/pyplot.py\u001b[0m in \u001b[0;36mplot\u001b[0;34m(scalex, scaley, data, *args, **kwargs)\u001b[0m\n\u001b[1;32m   2761\u001b[0m     return gca().plot(\n\u001b[1;32m   2762\u001b[0m         *args, scalex=scalex, scaley=scaley, **({\"data\": data} if data\n\u001b[0;32m-> 2763\u001b[0;31m         is not None else {}), **kwargs)\n\u001b[0m\u001b[1;32m   2764\u001b[0m \u001b[0;34m\u001b[0m\u001b[0m\n\u001b[1;32m   2765\u001b[0m \u001b[0;34m\u001b[0m\u001b[0m\n",
            "\u001b[0;32m/usr/local/lib/python3.6/dist-packages/matplotlib/axes/_axes.py\u001b[0m in \u001b[0;36mplot\u001b[0;34m(self, scalex, scaley, data, *args, **kwargs)\u001b[0m\n\u001b[1;32m   1645\u001b[0m         \"\"\"\n\u001b[1;32m   1646\u001b[0m         \u001b[0mkwargs\u001b[0m \u001b[0;34m=\u001b[0m \u001b[0mcbook\u001b[0m\u001b[0;34m.\u001b[0m\u001b[0mnormalize_kwargs\u001b[0m\u001b[0;34m(\u001b[0m\u001b[0mkwargs\u001b[0m\u001b[0;34m,\u001b[0m \u001b[0mmlines\u001b[0m\u001b[0;34m.\u001b[0m\u001b[0mLine2D\u001b[0m\u001b[0;34m)\u001b[0m\u001b[0;34m\u001b[0m\u001b[0;34m\u001b[0m\u001b[0m\n\u001b[0;32m-> 1647\u001b[0;31m         \u001b[0mlines\u001b[0m \u001b[0;34m=\u001b[0m \u001b[0;34m[\u001b[0m\u001b[0;34m*\u001b[0m\u001b[0mself\u001b[0m\u001b[0;34m.\u001b[0m\u001b[0m_get_lines\u001b[0m\u001b[0;34m(\u001b[0m\u001b[0;34m*\u001b[0m\u001b[0margs\u001b[0m\u001b[0;34m,\u001b[0m \u001b[0mdata\u001b[0m\u001b[0;34m=\u001b[0m\u001b[0mdata\u001b[0m\u001b[0;34m,\u001b[0m \u001b[0;34m**\u001b[0m\u001b[0mkwargs\u001b[0m\u001b[0;34m)\u001b[0m\u001b[0;34m]\u001b[0m\u001b[0;34m\u001b[0m\u001b[0;34m\u001b[0m\u001b[0m\n\u001b[0m\u001b[1;32m   1648\u001b[0m         \u001b[0;32mfor\u001b[0m \u001b[0mline\u001b[0m \u001b[0;32min\u001b[0m \u001b[0mlines\u001b[0m\u001b[0;34m:\u001b[0m\u001b[0;34m\u001b[0m\u001b[0;34m\u001b[0m\u001b[0m\n\u001b[1;32m   1649\u001b[0m             \u001b[0mself\u001b[0m\u001b[0;34m.\u001b[0m\u001b[0madd_line\u001b[0m\u001b[0;34m(\u001b[0m\u001b[0mline\u001b[0m\u001b[0;34m)\u001b[0m\u001b[0;34m\u001b[0m\u001b[0;34m\u001b[0m\u001b[0m\n",
            "\u001b[0;32m/usr/local/lib/python3.6/dist-packages/matplotlib/axes/_base.py\u001b[0m in \u001b[0;36m__call__\u001b[0;34m(self, *args, **kwargs)\u001b[0m\n\u001b[1;32m    214\u001b[0m                 \u001b[0mthis\u001b[0m \u001b[0;34m+=\u001b[0m \u001b[0margs\u001b[0m\u001b[0;34m[\u001b[0m\u001b[0;36m0\u001b[0m\u001b[0;34m]\u001b[0m\u001b[0;34m,\u001b[0m\u001b[0;34m\u001b[0m\u001b[0;34m\u001b[0m\u001b[0m\n\u001b[1;32m    215\u001b[0m                 \u001b[0margs\u001b[0m \u001b[0;34m=\u001b[0m \u001b[0margs\u001b[0m\u001b[0;34m[\u001b[0m\u001b[0;36m1\u001b[0m\u001b[0;34m:\u001b[0m\u001b[0;34m]\u001b[0m\u001b[0;34m\u001b[0m\u001b[0;34m\u001b[0m\u001b[0m\n\u001b[0;32m--> 216\u001b[0;31m             \u001b[0;32myield\u001b[0m \u001b[0;32mfrom\u001b[0m \u001b[0mself\u001b[0m\u001b[0;34m.\u001b[0m\u001b[0m_plot_args\u001b[0m\u001b[0;34m(\u001b[0m\u001b[0mthis\u001b[0m\u001b[0;34m,\u001b[0m \u001b[0mkwargs\u001b[0m\u001b[0;34m)\u001b[0m\u001b[0;34m\u001b[0m\u001b[0;34m\u001b[0m\u001b[0m\n\u001b[0m\u001b[1;32m    217\u001b[0m \u001b[0;34m\u001b[0m\u001b[0m\n\u001b[1;32m    218\u001b[0m     \u001b[0;32mdef\u001b[0m \u001b[0mget_next_color\u001b[0m\u001b[0;34m(\u001b[0m\u001b[0mself\u001b[0m\u001b[0;34m)\u001b[0m\u001b[0;34m:\u001b[0m\u001b[0;34m\u001b[0m\u001b[0;34m\u001b[0m\u001b[0m\n",
            "\u001b[0;32m/usr/local/lib/python3.6/dist-packages/matplotlib/axes/_base.py\u001b[0m in \u001b[0;36m_plot_args\u001b[0;34m(self, tup, kwargs)\u001b[0m\n\u001b[1;32m    340\u001b[0m \u001b[0;34m\u001b[0m\u001b[0m\n\u001b[1;32m    341\u001b[0m         \u001b[0;32mif\u001b[0m \u001b[0mx\u001b[0m\u001b[0;34m.\u001b[0m\u001b[0mshape\u001b[0m\u001b[0;34m[\u001b[0m\u001b[0;36m0\u001b[0m\u001b[0;34m]\u001b[0m \u001b[0;34m!=\u001b[0m \u001b[0my\u001b[0m\u001b[0;34m.\u001b[0m\u001b[0mshape\u001b[0m\u001b[0;34m[\u001b[0m\u001b[0;36m0\u001b[0m\u001b[0;34m]\u001b[0m\u001b[0;34m:\u001b[0m\u001b[0;34m\u001b[0m\u001b[0;34m\u001b[0m\u001b[0m\n\u001b[0;32m--> 342\u001b[0;31m             raise ValueError(f\"x and y must have same first dimension, but \"\n\u001b[0m\u001b[1;32m    343\u001b[0m                              f\"have shapes {x.shape} and {y.shape}\")\n\u001b[1;32m    344\u001b[0m         \u001b[0;32mif\u001b[0m \u001b[0mx\u001b[0m\u001b[0;34m.\u001b[0m\u001b[0mndim\u001b[0m \u001b[0;34m>\u001b[0m \u001b[0;36m2\u001b[0m \u001b[0;32mor\u001b[0m \u001b[0my\u001b[0m\u001b[0;34m.\u001b[0m\u001b[0mndim\u001b[0m \u001b[0;34m>\u001b[0m \u001b[0;36m2\u001b[0m\u001b[0;34m:\u001b[0m\u001b[0;34m\u001b[0m\u001b[0;34m\u001b[0m\u001b[0m\n",
            "\u001b[0;31mValueError\u001b[0m: x and y must have same first dimension, but have shapes (9,) and (1,)"
          ]
        },
        {
          "output_type": "display_data",
          "data": {
            "image/png": "[encoded data removed]",
            "text/plain": [
              "<Figure size 432x288 with 1 Axes>"
            ]
          },
          "metadata": {
            "tags": [],
            "needs_background": "light"
          }
        }
      ]
    },
    {
      "cell_type": "code",
      "metadata": {
        "id": "v4_AGYeXG7Ti",
        "colab_type": "code",
        "colab": {}
      },
      "source": [
        "# What can you conclude?"
      ],
      "execution_count": 21,
      "outputs": []
    },
    {
      "cell_type": "markdown",
      "metadata": {
        "id": "ev8LW79wG7Tl",
        "colab_type": "text"
      },
      "source": [
        "#### 3aiii.  Choosing $K$: The Gap Statistic\n",
        "\n",
        "There is one last method worth covering for picking $K$, the so-called Gap statistic. The computation for the gap statistic builds on the sum-of-squares established in the Elbow method discussion, and compares it to the sum-of-squares of a \"null distribution,\" that is, a random set of points with no clustering. The estimate for the optimal number of clusters $K$ is the value for which $\\log{SS}$ falls the farthest below that of the reference distribution:\n",
        "\n",
        "$$G_k = E_n^*\\{\\log SS_k\\} - \\log SS_k$$\n",
        "\n",
        "In other words a good clustering yields a much larger difference between the reference distribution and the clustered data. The reference distribution is a Monte Carlo (randomization) procedure that constructs $B$ random distributions of points within the bounding box (limits) of the original data and then applies K-means to this synthetic distribution of data points.. $E_n^*\\{\\log SS_k\\}$ is just the average $SS_k$ over all $B$ replicates. We then compute the standard deviation $\\sigma_{SS}$ of the values of $SS_k$ computed from the $B$ replicates of the reference distribution and compute\n",
        "\n",
        "$$s_k = \\sqrt{1+1/B}\\sigma_{SS}$$\n",
        "\n",
        "Finally, we choose $K=k$ such that $G_k \\geq G_{k+1} - s_{k+1}$."
      ]
    },
    {
      "cell_type": "markdown",
      "metadata": {
        "id": "djiKmkPDG7Tl",
        "colab_type": "text"
      },
      "source": [
        "#### Aside: Choosing $K$ when we Have Labels\n",
        "\n",
        "Unsupervised learning expects that we do not have the labels. In some situations, we may wish to cluster data that is labeled. Computing the optimal number of clusters is much easier if we have access to labels. There are several methods available. We will not go into the math or details since it is rare to have access to the labels, but we provide the names and references of these measures.\n",
        "\n",
        "* Adjusted Rand Index\n",
        "* Mutual Information\n",
        "* V-Measure\n",
        "* Fowlkes–Mallows index\n",
        "\n",
        "**Hint:** See [this article](http://scikit-learn.org/stable/modules/clustering.html) for more information about these metrics."
      ]
    },
    {
      "cell_type": "markdown",
      "metadata": {
        "id": "on-84LIQG7Tm",
        "colab_type": "text"
      },
      "source": [
        "### 3b. Visualizing Clusters using PCA\n",
        "\n",
        "How do we visualize clusters? If we only had two features, we could likely plot the data as is. But we have 100 data points each containing 32 features (dimensions). Principal Component Analysis (PCA) will help us reduce the dimensionality of our data from 32 to something lower. For a visualization on the coordinate plane, we will use 2 dimensions. In this exercise, we're going to use it to transform our multi-dimensional dataset into a 2 dimensional dataset.\n",
        "\n",
        "This is only one use of PCA for dimension reduction. We can also use PCA when we want to perform regression but we have a set of highly correlated variables. PCA untangles these correlations into a smaller number of features/predictors all of which are orthogonal (not correlated). PCA is also used to reduce a large set of variables into a much smaller one.\n",
        "\n",
        "**Hint:** PCA was discussed in the previous subunit. If you need help with it, consult [this useful article](https://towardsdatascience.com/a-one-stop-shop-for-principal-component-analysis-5582fb7e0a9c) and [this visual explanation](http://setosa.io/ev/principal-component-analysis/). "
      ]
    },
    {
      "cell_type": "markdown",
      "metadata": {
        "id": "K9QugfE5G7Tm",
        "colab_type": "text"
      },
      "source": [
        "<div class=\"span5 alert alert-info\">\n",
        "<h3>Checkup Exercise Set IV</h3>\n",
        "\n",
        "<p><b>Exercise:</b> Use PCA to plot your clusters:</p>\n",
        "\n",
        "<ul>\n",
        "<li> Use scikit-learn's [`PCA`](http://scikit-learn.org/stable/modules/generated/sklearn.decomposition.PCA.html) function to reduce the dimensionality of your clustering data to 2 components\n",
        "<li> Create a data frame with the following fields:\n",
        "  <ul>\n",
        "  <li> customer name\n",
        "  <li> cluster id the customer belongs to\n",
        "  <li> the two PCA components (label them `x` and `y`)\n",
        "  </ul>\n",
        "<li> Plot a scatterplot of the `x` vs `y` columns\n",
        "<li> Color-code points differently based on cluster ID\n",
        "<li> How do the clusters look? \n",
        "<li> Based on what you see, what seems to be the best value for $K$? Moreover, which method of choosing $K$ seems to have produced the optimal result visually?\n",
        "</ul>\n",
        "\n",
        "<p><b>Exercise:</b> Now look at both the original raw data about the offers and transactions and look at the fitted clusters. Tell a story about the clusters in context of the original data. For example, do the clusters correspond to wine variants or something else interesting?</p>\n",
        "</div>"
      ]
    },
    {
      "cell_type": "code",
      "metadata": {
        "id": "bM57BpiNG7Tm",
        "colab_type": "code",
        "colab": {
          "base_uri": "https://localhost:8080/",
          "height": 301
        },
        "outputId": "513eb70e-0e9c-4c07-83ab-57347b28de5b"
      },
      "source": [
        "import sklearn.decomposition\n",
        "import matplotlib.colors\n",
        "\n",
        "# Make a variable called model. We want n_clusters = 3 as parameter to sklearn.cluster.KMeans \n",
        "model = sklearn.cluster.KMeans(n_clusters=3)\n",
        "# Call a fit_predict() on X \n",
        "cluster_assignments = model.fit_predict(X)\n",
        "\n",
        "# Let's visualiaze with colors.ListedColormap\n",
        "cmap = matplotlib.colors.ListedColormap(['red', 'green', 'blue'])\n",
        "\n",
        "# We're going to do some PCA here. Call decomposition.PCA on sklearn, and pass n_components=2 as parameter\n",
        "pca = sklearn.decomposition.PCA(n_components=2)\n",
        "pc1, pc2 = zip(*pca.fit_transform(X))\n",
        "plt.scatter(pc1, pc2, c=cluster_assignments.tolist(), cmap=cmap)"
      ],
      "execution_count": 22,
      "outputs": [
        {
          "output_type": "execute_result",
          "data": {
            "text/plain": [
              "<matplotlib.collections.PathCollection at 0x7ffaf1e24550>"
            ]
          },
          "metadata": {
            "tags": []
          },
          "execution_count": 22
        },
        {
          "output_type": "display_data",
          "data": {
            "image/png": "[encoded data removed]",
            "text/plain": [
              "<Figure size 432x288 with 1 Axes>"
            ]
          },
          "metadata": {
            "tags": [],
            "needs_background": "light"
          }
        }
      ]
    },
    {
      "cell_type": "markdown",
      "metadata": {
        "id": "Nfic8g9sG7Tp",
        "colab_type": "text"
      },
      "source": [
        "Let's look at the clusters!"
      ]
    },
    {
      "cell_type": "code",
      "metadata": {
        "id": "v5DXB3PeG7Tp",
        "colab_type": "code",
        "colab": {
          "base_uri": "https://localhost:8080/",
          "height": 404
        },
        "outputId": "984b2338-a362-4316-e3e1-25710939b8f6"
      },
      "source": [
        "# Plot count of offer_id in each cluster.\n",
        "# But, certain offers were used more than others in the original data.\n",
        "# Let's compute the difference between how often they were used in each cluster vs globally.\n",
        "model = sklearn.cluster.KMeans(n_clusters=3)\n",
        "cluster_assignments = model.fit_predict(X)\n",
        "\n",
        "colors = ['red', 'green', 'blue']\n",
        "offer_proportions = pivoted.sum(axis=0) / 100  # There are 100 customers\n",
        "for i in range(3):\n",
        "    plt.figure(i)\n",
        "    cluster = pivoted[cluster_assignments == i]\n",
        "    offer_proportions_cluster = cluster.sum(axis=0) / cluster.shape[0]  # Number of customers in cluster\n",
        "    lift = offer_proportions_cluster - offer_proportions\n",
        "    plt.bar(range(1, 33), lift, color=colors[i])"
      ],
      "execution_count": 29,
      "outputs": [
        {
          "output_type": "error",
          "ename": "ValueError",
          "evalue": "ignored",
          "traceback": [
            "\u001b[0;31m---------------------------------------------------------------------------\u001b[0m",
            "\u001b[0;31mValueError\u001b[0m                                Traceback (most recent call last)",
            "\u001b[0;32m<ipython-input-29-00dcd115c626>\u001b[0m in \u001b[0;36m<module>\u001b[0;34m()\u001b[0m\n\u001b[1;32m      9\u001b[0m \u001b[0;32mfor\u001b[0m \u001b[0mi\u001b[0m \u001b[0;32min\u001b[0m \u001b[0mrange\u001b[0m\u001b[0;34m(\u001b[0m\u001b[0;36m3\u001b[0m\u001b[0;34m)\u001b[0m\u001b[0;34m:\u001b[0m\u001b[0;34m\u001b[0m\u001b[0;34m\u001b[0m\u001b[0m\n\u001b[1;32m     10\u001b[0m     \u001b[0mplt\u001b[0m\u001b[0;34m.\u001b[0m\u001b[0mfigure\u001b[0m\u001b[0;34m(\u001b[0m\u001b[0mi\u001b[0m\u001b[0;34m)\u001b[0m\u001b[0;34m\u001b[0m\u001b[0;34m\u001b[0m\u001b[0m\n\u001b[0;32m---> 11\u001b[0;31m     \u001b[0mcluster\u001b[0m \u001b[0;34m=\u001b[0m \u001b[0mpivoted\u001b[0m\u001b[0;34m[\u001b[0m\u001b[0mcluster_assignments\u001b[0m \u001b[0;34m==\u001b[0m \u001b[0mi\u001b[0m\u001b[0;34m]\u001b[0m\u001b[0;34m\u001b[0m\u001b[0;34m\u001b[0m\u001b[0m\n\u001b[0m\u001b[1;32m     12\u001b[0m     \u001b[0moffer_proportions_cluster\u001b[0m \u001b[0;34m=\u001b[0m \u001b[0mcluster\u001b[0m\u001b[0;34m.\u001b[0m\u001b[0msum\u001b[0m\u001b[0;34m(\u001b[0m\u001b[0maxis\u001b[0m\u001b[0;34m=\u001b[0m\u001b[0;36m0\u001b[0m\u001b[0;34m)\u001b[0m \u001b[0;34m/\u001b[0m \u001b[0mcluster\u001b[0m\u001b[0;34m.\u001b[0m\u001b[0mshape\u001b[0m\u001b[0;34m[\u001b[0m\u001b[0;36m0\u001b[0m\u001b[0;34m]\u001b[0m  \u001b[0;31m# Number of customers in cluster\u001b[0m\u001b[0;34m\u001b[0m\u001b[0;34m\u001b[0m\u001b[0m\n\u001b[1;32m     13\u001b[0m     \u001b[0mlift\u001b[0m \u001b[0;34m=\u001b[0m \u001b[0moffer_proportions_cluster\u001b[0m \u001b[0;34m-\u001b[0m \u001b[0moffer_proportions\u001b[0m\u001b[0;34m\u001b[0m\u001b[0;34m\u001b[0m\u001b[0m\n",
            "\u001b[0;32m/usr/local/lib/python3.6/dist-packages/pandas/core/frame.py\u001b[0m in \u001b[0;36m__getitem__\u001b[0;34m(self, key)\u001b[0m\n\u001b[1;32m   2789\u001b[0m         \u001b[0;31m# Do we have a (boolean) 1d indexer?\u001b[0m\u001b[0;34m\u001b[0m\u001b[0;34m\u001b[0m\u001b[0;34m\u001b[0m\u001b[0m\n\u001b[1;32m   2790\u001b[0m         \u001b[0;32mif\u001b[0m \u001b[0mcom\u001b[0m\u001b[0;34m.\u001b[0m\u001b[0mis_bool_indexer\u001b[0m\u001b[0;34m(\u001b[0m\u001b[0mkey\u001b[0m\u001b[0;34m)\u001b[0m\u001b[0;34m:\u001b[0m\u001b[0;34m\u001b[0m\u001b[0;34m\u001b[0m\u001b[0m\n\u001b[0;32m-> 2791\u001b[0;31m             \u001b[0;32mreturn\u001b[0m \u001b[0mself\u001b[0m\u001b[0;34m.\u001b[0m\u001b[0m_getitem_bool_array\u001b[0m\u001b[0;34m(\u001b[0m\u001b[0mkey\u001b[0m\u001b[0;34m)\u001b[0m\u001b[0;34m\u001b[0m\u001b[0;34m\u001b[0m\u001b[0m\n\u001b[0m\u001b[1;32m   2792\u001b[0m \u001b[0;34m\u001b[0m\u001b[0m\n\u001b[1;32m   2793\u001b[0m         \u001b[0;31m# We are left with two options: a single key, and a collection of keys,\u001b[0m\u001b[0;34m\u001b[0m\u001b[0;34m\u001b[0m\u001b[0;34m\u001b[0m\u001b[0m\n",
            "\u001b[0;32m/usr/local/lib/python3.6/dist-packages/pandas/core/frame.py\u001b[0m in \u001b[0;36m_getitem_bool_array\u001b[0;34m(self, key)\u001b[0m\n\u001b[1;32m   2836\u001b[0m         \u001b[0;32melif\u001b[0m \u001b[0mlen\u001b[0m\u001b[0;34m(\u001b[0m\u001b[0mkey\u001b[0m\u001b[0;34m)\u001b[0m \u001b[0;34m!=\u001b[0m \u001b[0mlen\u001b[0m\u001b[0;34m(\u001b[0m\u001b[0mself\u001b[0m\u001b[0;34m.\u001b[0m\u001b[0mindex\u001b[0m\u001b[0;34m)\u001b[0m\u001b[0;34m:\u001b[0m\u001b[0;34m\u001b[0m\u001b[0;34m\u001b[0m\u001b[0m\n\u001b[1;32m   2837\u001b[0m             raise ValueError(\n\u001b[0;32m-> 2838\u001b[0;31m                 \u001b[0;34mf\"Item wrong length {len(key)} instead of {len(self.index)}.\"\u001b[0m\u001b[0;34m\u001b[0m\u001b[0;34m\u001b[0m\u001b[0m\n\u001b[0m\u001b[1;32m   2839\u001b[0m             )\n\u001b[1;32m   2840\u001b[0m \u001b[0;34m\u001b[0m\u001b[0m\n",
            "\u001b[0;31mValueError\u001b[0m: Item wrong length 6 instead of 100."
          ]
        },
        {
          "output_type": "display_data",
          "data": {
            "text/plain": [
              "<Figure size 432x288 with 0 Axes>"
            ]
          },
          "metadata": {
            "tags": []
          }
        }
      ]
    },
    {
      "cell_type": "markdown",
      "metadata": {
        "id": "wE4f2ZE3G7Ts",
        "colab_type": "text"
      },
      "source": [
        "Take a moment to think about what we've done before reading on.\n",
        "\n",
        "-----------------------------\n",
        "\n",
        "What we've done is we've taken those columns of 0/1 indicator variables, and we've transformed them into a 2-D dataset. We took one column and arbitrarily called it `x` and then called the other `y`. Now we can throw each point into a scatterplot. We color coded each point based on it's cluster so it's easier to see them."
      ]
    },
    {
      "cell_type": "markdown",
      "metadata": {
        "id": "cwmgyLhtG7Tt",
        "colab_type": "text"
      },
      "source": [
        "<div class=\"span5 alert alert-info\">\n",
        "<h3>Exercise Set V</h3>\n",
        "\n",
        "<p>As we saw earlier, PCA has a lot of other uses. Since we wanted to visualize our data in 2 dimensions, restricted the number of dimensions to 2 in PCA. But what is the true optimal number of dimensions?</p>\n",
        "\n",
        "<p><b>Exercise:</b> Using a new PCA object shown in the next cell, plot the `explained_variance_` field and look for the elbow point, the point where the curve's rate of descent seems to slow sharply. This value is one possible value for the optimal number of dimensions. What is it?</p>\n",
        "</div>"
      ]
    },
    {
      "cell_type": "code",
      "metadata": {
        "id": "yyQ9eKF9G7Tt",
        "colab_type": "code",
        "colab": {
          "base_uri": "https://localhost:8080/",
          "height": 439
        },
        "outputId": "5b498ea5-5835-4794-ea10-1406c0536d41"
      },
      "source": [
        "#your turn\n",
        "# Initialize a new PCA model with a default number of components.\n",
        "import sklearn.decomposition\n",
        "# Initialize a variable, called pca, and assign it sklearn.decomposition.PCA() \n",
        "pca = sklearn.decomposition.PCA()\n",
        "\n",
        "# Call fit() on pca, with X passed to the method\n",
        "pca.fit(X)\n",
        "\n",
        "# Let's finish this :)  Make a variable called variance\n",
        "variance = pca.explained_variance_ratio_\n",
        "\n",
        "# Plot() it \n",
        "plt.plot(range(len(variance)), variance)\n",
        "\n",
        "# Label the axes\n",
        "plt.xlabel(\"Number of Components\")\n",
        "plt.ylabel(\"Proportion of Variance Explained\")\n"
      ],
      "execution_count": 24,
      "outputs": [
        {
          "output_type": "execute_result",
          "data": {
            "text/plain": [
              "Text(0, 0.5, 'Proportion of Variance Explained')"
            ]
          },
          "metadata": {
            "tags": []
          },
          "execution_count": 24
        },
        {
          "output_type": "display_data",
          "data": {
            "image/png": "[encoded data removed]",
            "text/plain": [
              "<Figure size 432x288 with 1 Axes>"
            ]
          },
          "metadata": {
            "tags": [],
            "needs_background": "light"
          }
        }
      ]
    },
    {
      "cell_type": "markdown",
      "metadata": {
        "id": "GHuxm_fWG7Tx",
        "colab_type": "text"
      },
      "source": [
        "## 4. Conclusions and next steps\n",
        "### 4a. Conclusions\n",
        "What can you conclude from your investigations? Make a note, formulate it as clearly as possible, and be prepared to discuss it with your mentor in your next call. "
      ]
    },
    {
      "cell_type": "markdown",
      "metadata": {
        "id": "kackpWgsTL-U",
        "colab_type": "text"
      },
      "source": [
        "**The elbow occurs at 4 components. We can likely reduce the principle components to 4 features mapping to the outcome.**"
      ]
    },
    {
      "cell_type": "markdown",
      "metadata": {
        "id": "K1DSf7kkG7Ty",
        "colab_type": "text"
      },
      "source": [
        "### 4b. Other clustering algorithms\n",
        "\n",
        "k-means is only one of a ton of clustering algorithms. Below is a brief description of several clustering algorithms, and the table provides references to the other clustering algorithms in scikit-learn. \n",
        "\n",
        "* **Affinity Propagation** does not require the number of clusters $K$ to be known in advance! AP uses a \"message passing\" paradigm to cluster points based on their similarity. \n",
        "\n",
        "* **Spectral Clustering** uses the eigenvalues of a similarity matrix to reduce the dimensionality of the data before clustering in a lower dimensional space. This is tangentially similar to what we did to visualize k-means clusters using PCA. The number of clusters must be known a priori.\n",
        "\n",
        "* **Ward's Method** applies to hierarchical clustering. Hierarchical clustering algorithms take a set of data and successively divide the observations into more and more clusters at each layer of the hierarchy. Ward's method is used to determine when two clusters in the hierarchy should be combined into one. It is basically an extension of hierarchical clustering. Hierarchical clustering is *divisive*, that is, all observations are part of the same cluster at first, and at each successive iteration, the clusters are made smaller and smaller. With hierarchical clustering, a hierarchy is constructed, and there is not really the concept of \"number of clusters.\" The number of clusters simply determines how low or how high in the hierarchy we reference and can be determined empirically or by looking at the [dendogram](https://docs.scipy.org/doc/scipy-0.18.1/reference/generated/scipy.cluster.hierarchy.dendrogram.html).\n",
        "\n",
        "* **Agglomerative Clustering** is similar to hierarchical clustering but but is not divisive, it is *agglomerative*. That is, every observation is placed into its own cluster and at each iteration or level or the hierarchy, observations are merged into fewer and fewer clusters until convergence. Similar to hierarchical clustering, the constructed hierarchy contains all possible numbers of clusters and it is up to the analyst to pick the number by reviewing statistics or the dendogram.\n",
        "\n",
        "* **DBSCAN** is based on point density rather than distance. It groups together points with many nearby neighbors. DBSCAN is one of the most cited algorithms in the literature. It does not require knowing the number of clusters a priori, but does require specifying the neighborhood size."
      ]
    },
    {
      "cell_type": "markdown",
      "metadata": {
        "id": "bVYG0nWqG7Ty",
        "colab_type": "text"
      },
      "source": [
        "### Clustering Algorithms in Scikit-learn\n",
        "<table border=\"1\">\n",
        "<colgroup>\n",
        "<col width=\"15%\" />\n",
        "<col width=\"16%\" />\n",
        "<col width=\"20%\" />\n",
        "<col width=\"27%\" />\n",
        "<col width=\"22%\" />\n",
        "</colgroup>\n",
        "<thead valign=\"bottom\">\n",
        "<tr><th>Method name</th>\n",
        "<th>Parameters</th>\n",
        "<th>Scalability</th>\n",
        "<th>Use Case</th>\n",
        "<th>Geometry (metric used)</th>\n",
        "</tr>\n",
        "</thead>\n",
        "<tbody valign=\"top\">\n",
        "<tr><td>K-Means</span></a></td>\n",
        "<td>number of clusters</td>\n",
        "<td>Very large<span class=\"pre\">n_samples</span>, medium <span class=\"pre\">n_clusters</span> with\n",
        "MiniBatch code</td>\n",
        "<td>General-purpose, even cluster size, flat geometry, not too many clusters</td>\n",
        "<td>Distances between points</td>\n",
        "</tr>\n",
        "<tr><td>Affinity propagation</td>\n",
        "<td>damping, sample preference</td>\n",
        "<td>Not scalable with n_samples</td>\n",
        "<td>Many clusters, uneven cluster size, non-flat geometry</td>\n",
        "<td>Graph distance (e.g. nearest-neighbor graph)</td>\n",
        "</tr>\n",
        "<tr><td>Mean-shift</td>\n",
        "<td>bandwidth</td>\n",
        "<td>Not scalable with <span class=\"pre\">n_samples</span></td>\n",
        "<td>Many clusters, uneven cluster size, non-flat geometry</td>\n",
        "<td>Distances between points</td>\n",
        "</tr>\n",
        "<tr><td>Spectral clustering</td>\n",
        "<td>number of clusters</td>\n",
        "<td>Medium <span class=\"pre\">n_samples</span>, small <span class=\"pre\">n_clusters</span></td>\n",
        "<td>Few clusters, even cluster size, non-flat geometry</td>\n",
        "<td>Graph distance (e.g. nearest-neighbor graph)</td>\n",
        "</tr>\n",
        "<tr><td>Ward hierarchical clustering</td>\n",
        "<td>number of clusters</td>\n",
        "<td>Large <span class=\"pre\">n_samples</span> and <span class=\"pre\">n_clusters</span></td>\n",
        "<td>Many clusters, possibly connectivity constraints</td>\n",
        "<td>Distances between points</td>\n",
        "</tr>\n",
        "<tr><td>Agglomerative clustering</td>\n",
        "<td>number of clusters, linkage type, distance</td>\n",
        "<td>Large <span class=\"pre\">n_samples</span> and <span class=\"pre\">n_clusters</span></td>\n",
        "<td>Many clusters, possibly connectivity constraints, non Euclidean\n",
        "distances</td>\n",
        "<td>Any pairwise distance</td>\n",
        "</tr>\n",
        "<tr><td>DBSCAN</td>\n",
        "<td>neighborhood size</td>\n",
        "<td>Very large <span class=\"pre\">n_samples</span>, medium <span class=\"pre\">n_clusters</span></td>\n",
        "<td>Non-flat geometry, uneven cluster sizes</td>\n",
        "<td>Distances between nearest points</td>\n",
        "</tr>\n",
        "<tr><td>Gaussian mixtures</td>\n",
        "<td>many</td>\n",
        "<td>Not scalable</td>\n",
        "<td>Flat geometry, good for density estimation</td>\n",
        "<td>Mahalanobis distances to  centers</td>\n",
        "</tr>\n",
        "<tr><td>Birch</td>\n",
        "<td>branching factor, threshold, optional global clusterer.</td>\n",
        "<td>Large <span class=\"pre\">n_clusters</span> and <span class=\"pre\">n_samples</span></td>\n",
        "<td>Large dataset, outlier removal, data reduction.</td>\n",
        "<td>Euclidean distance between points</td>\n",
        "</tr>\n",
        "</tbody>\n",
        "</table>\n",
        "Source: http://scikit-learn.org/stable/modules/clustering.html"
      ]
    },
    {
      "cell_type": "markdown",
      "metadata": {
        "id": "3Tnsm1m6G7Tz",
        "colab_type": "text"
      },
      "source": [
        "<div class=\"span5 alert alert-info\">\n",
        "<h3>Exercise Set VI</h3>\n",
        "\n",
        "<p><b>Exercise:</b> Try clustering using the following algorithms. </p>\n",
        "<ol>\n",
        "<li>Affinity propagation\n",
        "<li>Spectral clustering\n",
        "<li>Agglomerative clustering\n",
        "<li>DBSCAN\n",
        "</ol>\n",
        "<p>How do their results compare? Which performs the best? Tell a story why you think it performs the best.</p>\n",
        "</div>\n"
      ]
    },
    {
      "cell_type": "code",
      "metadata": {
        "id": "BTcu3wHJUQ3W",
        "colab_type": "code",
        "colab": {
          "base_uri": "https://localhost:8080/",
          "height": 50
        },
        "outputId": "146ebafe-6faa-48cd-88f8-4ae33665c73f"
      },
      "source": [
        "#Affinity propagation\n",
        "from sklearn.cluster import AffinityPropagation\n",
        "import numpy as np\n",
        "X = np.array([[1, 2], [1, 4], [1, 0],\n",
        "              [4, 2], [4, 4], [4, 0]])\n",
        "clustering = AffinityPropagation().fit(X)\n",
        "clustering\n",
        "\n",
        "clustering.labels_\n",
        "\n",
        "clustering.predict([[0, 0], [4, 4]])\n",
        "\n",
        "clustering.cluster_centers_"
      ],
      "execution_count": 30,
      "outputs": [
        {
          "output_type": "execute_result",
          "data": {
            "text/plain": [
              "array([[1, 2],\n",
              "       [4, 2]])"
            ]
          },
          "metadata": {
            "tags": []
          },
          "execution_count": 30
        }
      ]
    },
    {
      "cell_type": "code",
      "metadata": {
        "id": "3_Qr_5wgUS6Z",
        "colab_type": "code",
        "colab": {
          "base_uri": "https://localhost:8080/",
          "height": 84
        },
        "outputId": "99c557d2-d3f6-4ab2-c403-b9eabd9a2089"
      },
      "source": [
        "#Spectral clustering\n",
        "from sklearn.cluster import SpectralClustering\n",
        "import numpy as np\n",
        "#X = np.array([[1, 1], [2, 1], [1, 0],\n",
        "#              [4, 7], [3, 5], [3, 6]])\n",
        "clustering = SpectralClustering(n_clusters=2,\n",
        "        assign_labels=\"discretize\",\n",
        "        random_state=0).fit(X)\n",
        "clustering.labels_\n",
        "\n",
        "clustering"
      ],
      "execution_count": 31,
      "outputs": [
        {
          "output_type": "execute_result",
          "data": {
            "text/plain": [
              "SpectralClustering(affinity='rbf', assign_labels='discretize', coef0=1,\n",
              "                   degree=3, eigen_solver=None, eigen_tol=0.0, gamma=1.0,\n",
              "                   kernel_params=None, n_clusters=2, n_components=None,\n",
              "                   n_init=10, n_jobs=None, n_neighbors=10, random_state=0)"
            ]
          },
          "metadata": {
            "tags": []
          },
          "execution_count": 31
        }
      ]
    },
    {
      "cell_type": "code",
      "metadata": {
        "id": "m3LWhvjhUWLm",
        "colab_type": "code",
        "colab": {
          "base_uri": "https://localhost:8080/",
          "height": 34
        },
        "outputId": "2ee10595-0e93-4f57-9b3c-0c63fc270fbb"
      },
      "source": [
        "#Agglomerative clustering\n",
        "from sklearn.cluster import AgglomerativeClustering\n",
        "import numpy as np\n",
        "#X = np.array([[1, 2], [1, 4], [1, 0],\n",
        "#              [4, 2], [4, 4], [4, 0]])\n",
        "clustering = AgglomerativeClustering().fit(X)\n",
        "clustering\n",
        "\n",
        "clustering.labels_"
      ],
      "execution_count": 32,
      "outputs": [
        {
          "output_type": "execute_result",
          "data": {
            "text/plain": [
              "array([1, 1, 1, 0, 0, 0])"
            ]
          },
          "metadata": {
            "tags": []
          },
          "execution_count": 32
        }
      ]
    },
    {
      "cell_type": "code",
      "metadata": {
        "id": "c3ZfCYqJUYa9",
        "colab_type": "code",
        "colab": {
          "base_uri": "https://localhost:8080/",
          "height": 50
        },
        "outputId": "9167c5ff-c4f3-488e-fa18-5a087272bbb2"
      },
      "source": [
        "#DBSCAN\n",
        "from sklearn.cluster import DBSCAN\n",
        "import numpy as np\n",
        "#X = np.array([[1, 2], [2, 2], [2, 3],\n",
        "#              [8, 7], [8, 8], [25, 80]])\n",
        "clustering = DBSCAN(eps=3, min_samples=2).fit(X)\n",
        "clustering.labels_\n",
        "\n",
        "clustering"
      ],
      "execution_count": 33,
      "outputs": [
        {
          "output_type": "execute_result",
          "data": {
            "text/plain": [
              "DBSCAN(algorithm='auto', eps=3, leaf_size=30, metric='euclidean',\n",
              "       metric_params=None, min_samples=2, n_jobs=None, p=None)"
            ]
          },
          "metadata": {
            "tags": []
          },
          "execution_count": 33
        }
      ]
    }
  ]
}